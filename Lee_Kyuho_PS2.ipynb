{
 "cells": [
  {
   "cell_type": "code",
   "execution_count": 10,
   "id": "b57caef9",
   "metadata": {},
   "outputs": [],
   "source": [
    "# Kyuho Lee, Problem Set 2\n",
    "# Start with importing package\n",
    "import numpy as np"
   ]
  },
  {
   "cell_type": "code",
   "execution_count": 11,
   "id": "afbe16a0",
   "metadata": {},
   "outputs": [
    {
     "name": "stdout",
     "output_type": "stream",
     "text": [
      "Matrix A: \n",
      " [[0.33635 0.1427  0.42717]\n",
      " [0.58224 0.39448 0.20009]\n",
      " [0.97568 0.478   0.24646]]\n",
      "Matrix B: \n",
      " [[0.24487  0.297137 0.588115 0.309824]\n",
      " [0.674382 0.716121 0.037115 0.31845 ]\n",
      " [0.62051  0.927583 0.415386 0.231517]\n",
      " [0.914291 0.518357 0.146571 0.245268]]\n",
      "Matrix B: \n",
      " [[0.410958 0.881281 0.841645 0.653753 0.062568]\n",
      " [0.328874 0.390312 0.242873 0.460719 0.119437]\n",
      " [0.415604 0.228442 0.101438 0.210469 0.914524]\n",
      " [0.609891 0.103584 0.254734 0.181744 0.831333]\n",
      " [0.461681 0.690882 0.481377 0.382639 0.730652]]\n"
     ]
    }
   ],
   "source": [
    "# Given Matrices A, B, and C\n",
    "Al = [[0.33635, 0.14270, 0.42717], [0.58224, 0.39448, 0.20009], [0.97568, 0.47800, 0.24646]]\n",
    "Bl = [[0.244870, 0.297137, 0.588115, 0.309824],[0.674382, 0.716121, 0.037115, 0.318450],\n",
    "     [0.620510, 0.927583, 0.415386, 0.231517], [0.914291, 0.518357, 0.146571, 0.245268]]\n",
    "Cl = [[0.410958, 0.881281, 0.841645, 0.653753, 0.062568],[0.328874, 0.390312, 0.242873, 0.460719, 0.119437],\n",
    "    [0.415604, 0.228442, 0.101438, 0.210469, 0.914524], [0.609891, 0.103584, 0.254734, 0.181744, 0.831333],\n",
    "    [0.461681, 0.690882, 0.481377, 0.382639, 0.730652]]\n",
    "type(Al)\n",
    "\n",
    "# convert lists into matrices\n",
    "A = np.mat(Al)\n",
    "B = np.mat(Bl)\n",
    "C= np.mat(Cl)\n",
    "# Print matrices to check typos\n",
    "print(\"Matrix A: \\n\", A)\n",
    "print(\"Matrix B: \\n\", B)\n",
    "print(\"Matrix B: \\n\", C)"
   ]
  },
  {
   "cell_type": "code",
   "execution_count": 12,
   "id": "e3e2f693",
   "metadata": {},
   "outputs": [
    {
     "name": "stdout",
     "output_type": "stream",
     "text": [
      "Used in-built function for checking answer purpose, matrix A \n",
      " eigenvalue : 1.1885258909973506 \n",
      " eigenvector :\n",
      " [[-0.45152677]\n",
      " [-0.51473751]\n",
      " [-0.72881333]]\n",
      "Used in-built function for checking answer purpose, matrix B \n",
      " eigenvalue : (1.7369922251725654+0j) \n",
      " eigenvector :\n",
      " [[-0.43146497+0.j]\n",
      " [-0.45793804+0.j]\n",
      " [-0.60866465+0.j]\n",
      " [-0.48338191+0.j]]\n",
      "Used in-built function for checking answer purpose, matrix C \n",
      " eigenvalue : (2.2176964334313167+0j) \n",
      " eigenvector :\n",
      " [[0.51126449+0.j]\n",
      " [0.29262727+0.j]\n",
      " [0.40925311+0.j]\n",
      " [0.43988999+0.j]\n",
      " [0.54035784+0.j]]\n"
     ]
    }
   ],
   "source": [
    "# In-built Function to check eigenvalue and eigenvector\n",
    "e_a, v_a = np.linalg.eig(A)\n",
    "e_b, v_b = np.linalg.eig(B)\n",
    "e_c, v_c = np.linalg.eig(C)\n",
    "print(\"Used in-built function for checking answer purpose, matrix A \\n\", \"eigenvalue :\", \n",
    "      e_a[0], \"\\n\", \"eigenvector :\\n\", v_a[:,0])\n",
    "print(\"Used in-built function for checking answer purpose, matrix B \\n\", \"eigenvalue :\", \n",
    "      e_b[0], \"\\n\", \"eigenvector :\\n\", v_b[:,0])\n",
    "print(\"Used in-built function for checking answer purpose, matrix C \\n\", \"eigenvalue :\", \n",
    "      e_c[0], \"\\n\", \"eigenvector :\\n\", v_c[:,0])"
   ]
  },
  {
   "cell_type": "code",
   "execution_count": 14,
   "id": "57f6f512",
   "metadata": {},
   "outputs": [],
   "source": [
    "# Define power iteration\n",
    "def poweriter(mtx, x, l = 1, tol = 1e-8, maxit = 100, verbose=False):\n",
    "    for i in range(maxit):\n",
    "        i = i + 1 # Count iternation\n",
    "        u = x / np.linalg.norm(x) # Normalize x to prevent explosion\n",
    "        x = mtx * u # update x vector\n",
    "        l = u.T * x # lambda eigenvalue\n",
    "        if np.linalg.norm(mtx * x - x * l) <= tol:\n",
    "            return x, l, i\n",
    "        x = x / l\n",
    "        if(verbose):\n",
    "            print(\"Iteration time:\",i, \"lambda:\",l, \"\\n x=\",x)\n",
    "    print(\"Max iterations.\")\n",
    "    return(none)"
   ]
  },
  {
   "cell_type": "code",
   "execution_count": 15,
   "id": "b9e98f05",
   "metadata": {},
   "outputs": [],
   "source": [
    "# Assign random x vectors\n",
    "rd = np.random.RandomState(888) \n",
    "x_a = rd.random((3, 1)) # Random vector for matrix A\n",
    "x_b = rd.random((4, 1)) # Random vector for matrix B\n",
    "x_c = rd.random((5, 1)) # Random vector for matrix C"
   ]
  },
  {
   "cell_type": "code",
   "execution_count": 16,
   "id": "300b7944",
   "metadata": {},
   "outputs": [
    {
     "name": "stdout",
     "output_type": "stream",
     "text": [
      "After 15 iterations Matrix A's eigenvalue and eigenvector\n",
      " eigenvalue :\n",
      " [[1.18852589]] \n",
      " eigenvector : \n",
      " [[0.53665126]\n",
      " [0.61177886]\n",
      " [0.86621351]]\n",
      "After 12 iterations Matrix B's eigenvalue and eigenvector\n",
      " eigenvalue :\n",
      " [[1.73699222]] \n",
      " eigenvector : \n",
      " [[0.74945129]\n",
      " [0.79543481]\n",
      " [1.05724577]\n",
      " [0.83963062]]\n",
      "After 11 iterations Matrix C's eigenvalue and eigenvector\n",
      " eigenvalue :\n",
      " [[2.21769643]] \n",
      " eigenvector : \n",
      " [[1.13382943]\n",
      " [0.64895846]\n",
      " [0.90759916]\n",
      " [0.97554246]\n",
      " [1.19834965]]\n"
     ]
    }
   ],
   "source": [
    "# Run Poweriteration\n",
    "m_a = poweriter(A, x_a) # Matrix A\n",
    "m_b = poweriter(B, x_b) # Matrix B\n",
    "m_c = poweriter(C, x_c) # Matrix C\n",
    "\n",
    "print(\"After\", m_a[2], \"iterations Matrix A's eigenvalue and eigenvector\\n\", \n",
    "     \"eigenvalue :\\n\", m_a[1], \"\\n eigenvector : \\n\", m_a[0])\n",
    "print(\"After\", m_b[2], \"iterations Matrix B's eigenvalue and eigenvector\\n\", \n",
    "     \"eigenvalue :\\n\", m_b[1], \"\\n eigenvector : \\n\", m_b[0])\n",
    "print(\"After\", m_c[2], \"iterations Matrix C's eigenvalue and eigenvector\\n\", \n",
    "     \"eigenvalue :\\n\", m_c[1], \"\\n eigenvector : \\n\", m_c[0])"
   ]
  },
  {
   "cell_type": "code",
   "execution_count": null,
   "id": "c12ce76f",
   "metadata": {},
   "outputs": [],
   "source": []
  }
 ],
 "metadata": {
  "kernelspec": {
   "display_name": "Python 3 (ipykernel)",
   "language": "python",
   "name": "python3"
  },
  "language_info": {
   "codemirror_mode": {
    "name": "ipython",
    "version": 3
   },
   "file_extension": ".py",
   "mimetype": "text/x-python",
   "name": "python",
   "nbconvert_exporter": "python",
   "pygments_lexer": "ipython3",
   "version": "3.10.2"
  }
 },
 "nbformat": 4,
 "nbformat_minor": 5
}
