{
 "cells": [
  {
   "cell_type": "code",
   "execution_count": 57,
   "id": "349b0a6f",
   "metadata": {},
   "outputs": [],
   "source": [
    "# imports for the assignment 1\n",
    "import numpy as np # for array\n",
    "import math # for calculation\n",
    "from math import e # for function 2\n",
    "import matplotlib.pyplot as plt # for plotting"
   ]
  },
  {
   "cell_type": "code",
   "execution_count": 103,
   "id": "7e988fe6",
   "metadata": {},
   "outputs": [
    {
     "data": {
      "image/png": "[encoded data removed]",
      "text/plain": [
       "<Figure size 432x288 with 1 Axes>"
      ]
     },
     "metadata": {
      "needs_background": "light"
     },
     "output_type": "display_data"
    }
   ],
   "source": [
    "# Plotting function 1\n",
    "plt.figure(1) # Create the figure object for the first funtion to control the size\n",
    "x_f1 = np.arange(-5, 5, 0.01) # the range of x is given from the Analysis for PS1\n",
    "\n",
    "def f1(x): # Define function 1\n",
    "    x1 = x ** 2 - 4 * x + 2\n",
    "    return x1\n",
    "\n",
    "plt.axvline(0)\n",
    "plt.axhline(0)\n",
    "plt.xlabel('x_f1')\n",
    "plt.ylabel('y_f1', rotation = 0)\n",
    "plt.title(\"function1\")\n",
    "plt.plot(x_f1,f1(x_f1))\n",
    "plt.show()"
   ]
  },
  {
   "cell_type": "code",
   "execution_count": 104,
   "id": "3915989c",
   "metadata": {},
   "outputs": [
    {
     "data": {
      "image/png": "[encoded data removed]",
      "text/plain": [
       "<Figure size 432x288 with 1 Axes>"
      ]
     },
     "metadata": {
      "needs_background": "light"
     },
     "output_type": "display_data"
    }
   ],
   "source": [
    "# Plotting function 2\n",
    "plt.figure(2) # Create the figure object for the second function to control the size\n",
    "x_f2 = np.arange(-3, 10, 0.1) # the range of x is given from the Analysis for PS1\n",
    "\n",
    "def f2(x): # Define function 2\n",
    "    x1 = e ** -x + x - 7 \n",
    "    return x1\n",
    "\n",
    "plt.xlabel('x_f2')\n",
    "plt.ylabel('y_f2', rotation = 0)\n",
    "plt.title('function2')\n",
    "plt.axhline(0)\n",
    "plt.axvline(0)\n",
    "plt.plot(x_f2,f2(x_f2))\n",
    "plt.show()"
   ]
  },
  {
   "cell_type": "code",
   "execution_count": 60,
   "id": "042694c5",
   "metadata": {},
   "outputs": [],
   "source": [
    "# Conditions\n",
    "maxit = range(100)\n",
    "tol = 1e-4"
   ]
  },
  {
   "cell_type": "code",
   "execution_count": 61,
   "id": "7f58fa6f",
   "metadata": {},
   "outputs": [],
   "source": [
    "# g functions for fixed point iterations\n",
    "def g1(x): # this is the g function for function 1\n",
    "    x1 = (x ** 2 + 2) / 4\n",
    "    return x1\n",
    "def g2(x): # this is the g function for function 2\n",
    "    x1 = 7- e **- x\n",
    "    return x1"
   ]
  },
  {
   "cell_type": "code",
   "execution_count": 101,
   "id": "46d821db",
   "metadata": {},
   "outputs": [
    {
     "name": "stdout",
     "output_type": "stream",
     "text": [
      "Iteration 1 : 0.75\n",
      "Iteration 2 : 0.640625\n",
      "Iteration 3 : 0.60260009765625\n",
      "Iteration 4 : 0.5907817194238305\n",
      "Iteration 5 : 0.5872557600013444\n",
      "Iteration 6 : 0.5862173319136892\n",
      "Iteration 7 : 0.5859126900590012\n",
      "Number of iterations : 7\n",
      "Fixed Point Iteration Roots for the function 1 : 0.5859126900590012\n",
      "Iteration 1 : 6.632120558828557\n",
      "Iteration 2 : 6.998682633431329\n",
      "Iteration 3 : 6.999086915960017\n",
      "Number of iterations : 3\n",
      "Fixed Point Iteration Roots for the function 1 : 6.999086915960017\n"
     ]
    }
   ],
   "source": [
    "# Fixed Iteration Method, MAXIT and TOL are used in this function and those two are predefined Macro Variables above\n",
    "def fixiter(f, p):\n",
    "    for i in maxit:\n",
    "        i = i + 1 # I need to count iteration to check the process\n",
    "        if abs(f(p) - p) > tol: # using if condition for iteration not to stop hence the sign is greater\n",
    "            p = f(p)\n",
    "            print('Iteration', i, ':', p) # Previously diverged Need to print to check what is causing the problem\n",
    "        else:\n",
    "            print(\"Number of iterations :\", i-1)\n",
    "            print(\"Fixed Point Iteration Roots for the function 1 :\",p)\n",
    "            break\n",
    "      \n",
    "fixiter(g1,1)\n",
    "fixiter(g2,1)"
   ]
  },
  {
   "cell_type": "code",
   "execution_count": 94,
   "id": "4224d1d9",
   "metadata": {},
   "outputs": [],
   "source": [
    "# Bisection Method, TOL is used in this function. It is a predefined Macro Variables above. MAXIT is not used becasue I used while loop\n",
    "def bis(func, a, b) :\n",
    "    ''' func: input string as a function\n",
    "        a: lower bound\n",
    "        b: upper bound\n",
    "        tolerence: Error accept\n",
    "        '''\n",
    "    def f(x):\n",
    "        f = eval(func) # change string to function\n",
    "        return f\n",
    "    error = abs(b-a)\n",
    "    \n",
    "    while error > tol:\n",
    "        i = 1\n",
    "        i = i + 1     # Iteration check for While Loop\n",
    "        c = (b + a) / 2\n",
    "        \n",
    "        if f(a) * f(b) >= 0:\n",
    "            print(\"Bisection doesn't work\")\n",
    "            break\n",
    "        elif f(c) * f(a) < 0:\n",
    "            b = c\n",
    "            error = abs(b - a)\n",
    "        elif f(c) * f(b) < 0:\n",
    "            a = c\n",
    "            error = abs(b - a)\n",
    "        else:\n",
    "            print(\"Something went wrong\")\n",
    "            quit()\n",
    "    return a, i"
   ]
  },
  {
   "cell_type": "code",
   "execution_count": 95,
   "id": "80173a1c",
   "metadata": {},
   "outputs": [
    {
     "name": "stdout",
     "output_type": "stream",
     "text": [
      "Bisection Method for the function 1 : 0.58575439453125 , 3.4141845703125\n",
      "Function 1 Iteration taken : Lower Bound : 2 , Upper bound : 2\n"
     ]
    }
   ],
   "source": [
    "f1a = list(bis(\"(x ** 2) - 4 * x + 2\",0,1))\n",
    "f1b = list(bis(\"(x ** 2) - 4 * x + 2\",3,4))\n",
    "f1b[1]\n",
    "print(\"Bisection Method for the function 1 :\", f1a[0],\"\" \",\", f1b[0])\n",
    "print(\"Function 1 While Loop Iteration :\", \"Lower Bound :\", f1a[1],\", \" \"Upper bound :\", f1b[1])"
   ]
  },
  {
   "cell_type": "code",
   "execution_count": 96,
   "id": "0ffed7b2",
   "metadata": {},
   "outputs": [
    {
     "name": "stdout",
     "output_type": "stream",
     "text": [
      "Bisection Method for the function 2 : -2.2216186523437504 , 6.99908447265625\n",
      "Function 2 Iteration taken : Lower Bound : 2 , Upper bound : 2\n"
     ]
    }
   ],
   "source": [
    "f2a = list(bis(\"(e ** -x) + x - 7\",-2.9,-1.5))\n",
    "f2b = list(bis(\"(e ** -x) + x - 7\",6,7))\n",
    "print(\"Bisection Method for the function 2 :\", f2a[0],\"\" \",\", f2b[0])\n",
    "print(\"Function 2 While Loop Iteration :\", \"Lower Bound :\", f2a[1],\", \" \"Upper bound :\", f2b[1])"
   ]
  },
  {
   "cell_type": "code",
   "execution_count": 100,
   "id": "40d5cc14",
   "metadata": {},
   "outputs": [],
   "source": [
    "# Newton's Method\n",
    "# Start with defining derivative functions\n",
    "def df1(x): # derivative of function 1\n",
    "    x1 = 2 * x - 4\n",
    "    return x1\n",
    "\n",
    "def df2(x): # derivative of function 2\n",
    "    x1 = 1- e ** - x\n",
    "    return x1"
   ]
  },
  {
   "cell_type": "code",
   "execution_count": 108,
   "id": "a7ad9bcc",
   "metadata": {},
   "outputs": [
    {
     "name": "stdout",
     "output_type": "stream",
     "text": [
      "Iteration 1 :  0.5\n",
      "Iteration 2 :  0.5833333333333334\n",
      "Iteration 3 :  0.5857843137254902\n",
      "Number of iterations : 3\n",
      "Fixed Point Iteration Roots for the function 1 : 0.5857843137254902\n",
      "Iteration 1 :  9.909883534346632\n",
      "Iteration 2 :  6.999805742559349\n",
      "Iteration 3 :  6.999087285602161\n",
      "Number of iterations : 3\n",
      "Fixed Point Iteration Roots for the function 1 : 6.999087285602161\n"
     ]
    }
   ],
   "source": [
    "def newton(f,df,x):\n",
    "    for i in maxit:\n",
    "        i = i+1\n",
    "        if abs(f(x)) > tol:\n",
    "            x = x - f(x) / df(x)\n",
    "            print('Iteration', i, ': ', x)\n",
    "        else:\n",
    "            print(\"Number of iterations :\", i-1)\n",
    "            print(\"Fixed Point Iteration Roots for the function 1 :\", x)\n",
    "            break\n",
    "    return\n",
    "\n",
    "newton(f1,df1,1)\n",
    "newton(f2,df2,1)\n"
   ]
  }
 ],
 "metadata": {
  "kernelspec": {
   "display_name": "Python 3 (ipykernel)",
   "language": "python",
   "name": "python3"
  },
  "language_info": {
   "codemirror_mode": {
    "name": "ipython",
    "version": 3
   },
   "file_extension": ".py",
   "mimetype": "text/x-python",
   "name": "python",
   "nbconvert_exporter": "python",
   "pygments_lexer": "ipython3",
   "version": "3.10.2"
  }
 },
 "nbformat": 4,
 "nbformat_minor": 5
}
